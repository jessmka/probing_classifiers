{
 "cells": [
  {
   "cell_type": "code",
   "execution_count": 32,
   "id": "3f942075",
   "metadata": {},
   "outputs": [],
   "source": [
    "import json\n",
    "import torch\n",
    "from transformers import AutoModelForCausalLM, AutoTokenizer, pipeline\n",
    "import random\n",
    "from probes import *\n",
    "import numpy as np\n",
    "import pickle\n",
    "import matplotlib.pyplot as plt\n",
    "torch.set_printoptions(threshold=20)"
   ]
  },
  {
   "cell_type": "code",
   "execution_count": 7,
   "id": "c7ab1c9b",
   "metadata": {},
   "outputs": [],
   "source": [
    "from tqdm.notebook import tqdm"
   ]
  },
  {
   "cell_type": "code",
   "execution_count": 3,
   "id": "efe91c0b",
   "metadata": {},
   "outputs": [],
   "source": [
    "with open('prompt_output.json', 'r') as f:\n",
    "    prompts_data = json.load(f)"
   ]
  },
  {
   "cell_type": "code",
   "execution_count": 4,
   "id": "3fb66b28",
   "metadata": {},
   "outputs": [
    {
     "name": "stderr",
     "output_type": "stream",
     "text": [
      "Loading checkpoint shards: 100%|██████████| 2/2 [00:09<00:00,  4.73s/it]\n",
      "Some parameters are on the meta device because they were offloaded to the disk.\n"
     ]
    }
   ],
   "source": [
    "model_name = \"meta-llama/Llama-3.2-3B-Instruct\"  \n",
    "tokenizer = AutoTokenizer.from_pretrained(model_name)\n",
    "model = AutoModelForCausalLM.from_pretrained(model_name, dtype=torch.float32, device_map=\"auto\")"
   ]
  },
  {
   "cell_type": "code",
   "execution_count": 5,
   "id": "0899de84",
   "metadata": {},
   "outputs": [],
   "source": [
    "batch_size = 8"
   ]
  },
  {
   "cell_type": "code",
   "execution_count": null,
   "id": "3fabb5d0",
   "metadata": {},
   "outputs": [],
   "source": [
    "# debug\n",
    "strings = []\n",
    "for demo_dict in prompts_data:\n",
    "    for k, v in demo_dict.items():\n",
    "        question_convos = [\n",
    "                    [{\"role\": \"user\", \"content\": current_convo}]\n",
    "                    for current_convo in v\n",
    "                ]\n",
    "        strings += question_convos\n",
    "    \n"
   ]
  },
  {
   "cell_type": "code",
   "execution_count": 40,
   "id": "3204480f",
   "metadata": {},
   "outputs": [
    {
     "data": {
      "text/plain": [
       "1"
      ]
     },
     "execution_count": 40,
     "metadata": {},
     "output_type": "execute_result"
    }
   ],
   "source": [
    "# for ques in strings[0:5]:\n",
    "#     print( \n",
    "#         tokenizer.apply_chat_template(\n",
    "#     ques,\n",
    "#     add_generation_prompt=True,\n",
    "#     return_tensors=\"pt\" # Return the input as PyTorch tensors\n",
    "#     )\n",
    "#     )\n",
    "len(answer)"
   ]
  },
  {
   "cell_type": "code",
   "execution_count": null,
   "id": "fad1125a",
   "metadata": {},
   "outputs": [
    {
     "name": "stderr",
     "output_type": "stream",
     "text": [
      "The attention mask and the pad token id were not set. As a consequence, you may observe unexpected behavior. Please pass your input's `attention_mask` to obtain reliable results.\n",
      "Setting `pad_token_id` to `eos_token_id`:128001 for open-end generation.\n"
     ]
    }
   ],
   "source": [
    "# Get model responses - unsteered\n",
    "# ~ 7 mins per question (v slow, see how to speed this up)\n",
    "model_responses = []\n",
    "for ques in strings[0:1]:\n",
    "    tokenized_chat = tokenizer.apply_chat_template(\n",
    "    ques,\n",
    "    add_generation_prompt=True,\n",
    "    return_tensors=\"pt\" # Return the input as PyTorch tensors\n",
    "    )\n",
    "    with torch.no_grad():\n",
    "        output_ids = model.generate(\n",
    "            tokenized_chat,\n",
    "            do_sample=False,\n",
    "            max_new_tokens=100,\n",
    "        )\n",
    "    prompt_text = tokenizer.decode(tokenized_chat[0], skip_special_tokens=True)\n",
    "    full_output = tokenizer.decode(output_ids[0], skip_special_tokens=True)\n",
    "\n",
    "    # Get only the new text generated after the prompt\n",
    "    generated_part = full_output[len(prompt_text):].strip()\n",
    "    model_responses.append(generated_part)\n"
   ]
  },
  {
   "cell_type": "code",
   "execution_count": 43,
   "id": "d9799063",
   "metadata": {},
   "outputs": [
    {
     "data": {
      "text/plain": [
       "\"Hi Jin, I'd be happy to help you find some classes at the University of Queensland that might interest you.\\n\\nBased on your preferences, here are some class suggestions:\\n\\n**Engineering-related classes:**\\n\\n1. Engineering Management: This class will help you understand the business side of engineering and how to apply engineering principles to real-world problems.\\n2. Operations Research: This class will teach you how to use mathematical and analytical techniques to optimize business processes and solve complex problems.\\n3. Entrepreneurship: This class\""
      ]
     },
     "execution_count": 43,
     "metadata": {},
     "output_type": "execute_result"
    }
   ],
   "source": [
    "generated_part"
   ]
  },
  {
   "cell_type": "markdown",
   "id": "f77d7586",
   "metadata": {},
   "source": [
    "### Use probes created in probes.ipynb to steer the model"
   ]
  },
  {
   "cell_type": "code",
   "execution_count": 2,
   "id": "4070e956",
   "metadata": {},
   "outputs": [],
   "source": [
    "mod_list = []\n",
    "for i in range(29):\n",
    "    # load\n",
    "    with open(f'probe_pickles/model{i}.pkl', 'rb') as f:\n",
    "        mod_list.append(pickle.load(f))"
   ]
  },
  {
   "cell_type": "code",
   "execution_count": null,
   "id": "02896d70",
   "metadata": {},
   "outputs": [],
   "source": [
    "# from https://github.com/Veranep/implicit-personalization-stereotypes/blob/main/eval_conversations.py#L299\n",
    "\n",
    "def modified_model(\n",
    "    model,\n",
    "    probes,\n",
    "    modified_layer_names,\n",
    "    demographic,\n",
    "    value,\n",
    "    batch_size,\n",
    "    question_convos,\n",
    "    N,\n",
    "):\n",
    "    \"\"\"Apply steering towards demographic group to model and generate response\"\"\"\n",
    "    global probes_dict\n",
    "    probes_dict = probes\n",
    "    global mult\n",
    "    mult = N\n",
    "    global cf_target\n",
    "    cf_target = probe_targets[demographic][value]\n",
    "    with TraceDict(\n",
    "        model.model,\n",
    "        modified_layer_names,\n",
    "        edit_output=edit_inter_rep_multi_layers,\n",
    "    ) as ret:\n",
    "        model_answer = [\n",
    "            answer[0][\"generated_text\"][-1][\"content\"]\n",
    "            for answer in tqdm(\n",
    "                model(\n",
    "                    question_convos,\n",
    "                    batch_size=batch_size,\n",
    "                    do_sample=False,\n",
    "                    max_new_tokens=100,\n",
    "                ),\n",
    "                total=len(question_convos),\n",
    "            )\n",
    "        ]\n",
    "    return model_answer"
   ]
  },
  {
   "cell_type": "code",
   "execution_count": null,
   "id": "98104f62",
   "metadata": {},
   "outputs": [],
   "source": [
    "# from https://github.com/Veranep/implicit-personalization-stereotypes/blob/main/eval_conversations.py#L299\n",
    "new_answers = modified_model(\n",
    "                model,\n",
    "                probes,\n",
    "                modified_layer_names,\n",
    "                demographic,\n",
    "                target,\n",
    "                batch_size,\n",
    "                question_convos,\n",
    "                N,\n",
    "            )\n",
    "return_convos[i][\"mod_indirect_question\"][k] = new_answers"
   ]
  }
 ],
 "metadata": {
  "kernelspec": {
   "display_name": "probing_classifiers",
   "language": "python",
   "name": "python3"
  },
  "language_info": {
   "codemirror_mode": {
    "name": "ipython",
    "version": 3
   },
   "file_extension": ".py",
   "mimetype": "text/x-python",
   "name": "python",
   "nbconvert_exporter": "python",
   "pygments_lexer": "ipython3",
   "version": "3.11.11"
  }
 },
 "nbformat": 4,
 "nbformat_minor": 5
}
